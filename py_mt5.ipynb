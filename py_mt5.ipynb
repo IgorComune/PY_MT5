{
 "cells": [
  {
   "cell_type": "markdown",
   "id": "e0a4d147",
   "metadata": {},
   "source": [
    "# Libraries"
   ]
  },
  {
   "cell_type": "code",
   "execution_count": 1,
   "id": "91f5af14",
   "metadata": {},
   "outputs": [],
   "source": [
    "import pandas as pd\n",
    "import numpy as np\n",
    "from datetime import datetime\n",
    "\n",
    "import MetaTrader5 as mt5\n",
    "import matplotlib.pyplot as plt\n"
   ]
  },
  {
   "cell_type": "markdown",
   "id": "f495f0c8",
   "metadata": {},
   "source": [
    "# Initialize"
   ]
  },
  {
   "cell_type": "code",
   "execution_count": 2,
   "id": "153e932c",
   "metadata": {},
   "outputs": [],
   "source": [
    "def initialize():    \n",
    "    if not mt5.initialize(): # if you are not logged, you can insert your login=, password= in the mt5.initialize\n",
    "        print(\"initialize() failed, error code =\", mt5.last_error()) # if there is a error, it will return it\n",
    "        mt5.shutdown()"
   ]
  },
  {
   "cell_type": "code",
   "execution_count": 3,
   "id": "a123acfa",
   "metadata": {},
   "outputs": [],
   "source": [
    "#close the meta trader connection\n",
    "def close_connection():\n",
    "    mt5.shutdown()"
   ]
  },
  {
   "cell_type": "code",
   "execution_count": 4,
   "id": "d259fe67",
   "metadata": {},
   "outputs": [],
   "source": [
    "#opening the mt5\n",
    "initialize()"
   ]
  },
  {
   "cell_type": "code",
   "execution_count": 6,
   "id": "d1c2ad02",
   "metadata": {},
   "outputs": [
    {
     "data": {
      "text/plain": [
       "53623"
      ]
     },
     "execution_count": 6,
     "metadata": {},
     "output_type": "execute_result"
    }
   ],
   "source": [
    "mt5.account_info() # informations about the account\n",
    "mt5.terminal_info() # information about the terminal\n",
    "mt5.symbols_total() # total number of financial instruments"
   ]
  },
  {
   "cell_type": "markdown",
   "id": "31c8af6a",
   "metadata": {},
   "source": [
    "## Symbols Get"
   ]
  },
  {
   "cell_type": "code",
   "execution_count": 42,
   "id": "b043887b",
   "metadata": {
    "collapsed": true
   },
   "outputs": [
    {
     "data": {
      "text/plain": [
       "{'custom': False,\n",
       " 'chart_mode': 1,\n",
       " 'select': False,\n",
       " 'visible': False,\n",
       " 'session_deals': 0,\n",
       " 'session_buy_orders': 0,\n",
       " 'session_sell_orders': 0,\n",
       " 'volume': 0,\n",
       " 'volumehigh': 0,\n",
       " 'volumelow': 0,\n",
       " 'time': 0,\n",
       " 'digits': 0,\n",
       " 'spread': 0,\n",
       " 'spread_float': True,\n",
       " 'ticks_bookdepth': 32,\n",
       " 'trade_calc_mode': 33,\n",
       " 'trade_mode': 0,\n",
       " 'start_time': 0,\n",
       " 'expiration_time': 0,\n",
       " 'trade_stops_level': 10,\n",
       " 'trade_freeze_level': 0,\n",
       " 'trade_exemode': 3,\n",
       " 'swap_mode': 0,\n",
       " 'swap_rollover3days': 3,\n",
       " 'margin_hedged_use_leg': False,\n",
       " 'expiration_mode': 15,\n",
       " 'filling_mode': 1,\n",
       " 'order_mode': 127,\n",
       " 'order_gtc_mode': 0,\n",
       " 'option_mode': 0,\n",
       " 'option_right': 0,\n",
       " 'bid': 0.0,\n",
       " 'bidhigh': 0.0,\n",
       " 'bidlow': 0.0,\n",
       " 'ask': 0.0,\n",
       " 'askhigh': 0.0,\n",
       " 'asklow': 0.0,\n",
       " 'last': 0.0,\n",
       " 'lasthigh': 0.0,\n",
       " 'lastlow': 0.0,\n",
       " 'volume_real': 0.0,\n",
       " 'volumehigh_real': 0.0,\n",
       " 'volumelow_real': 0.0,\n",
       " 'option_strike': 0.0,\n",
       " 'point': 1.0,\n",
       " 'trade_tick_value': 1.0,\n",
       " 'trade_tick_value_profit': 1.0,\n",
       " 'trade_tick_value_loss': 1.0,\n",
       " 'trade_tick_size': 1.0,\n",
       " 'trade_contract_size': 1.0,\n",
       " 'trade_accrued_interest': 0.0,\n",
       " 'trade_face_value': 0.0,\n",
       " 'trade_liquidity_rate': 0.0,\n",
       " 'volume_min': 100.0,\n",
       " 'volume_max': 10000.0,\n",
       " 'volume_step': 100.0,\n",
       " 'volume_limit': 10000.0,\n",
       " 'swap_long': 0.0,\n",
       " 'swap_short': 0.0,\n",
       " 'margin_initial': 0.0,\n",
       " 'margin_maintenance': 0.0,\n",
       " 'session_volume': 0.0,\n",
       " 'session_turnover': 0.0,\n",
       " 'session_interest': 0.0,\n",
       " 'session_buy_orders_volume': 0.0,\n",
       " 'session_sell_orders_volume': 0.0,\n",
       " 'session_open': 0.0,\n",
       " 'session_close': 0.0,\n",
       " 'session_aw': 0.0,\n",
       " 'session_price_settlement': 0.0,\n",
       " 'session_price_limit_min': 0.0,\n",
       " 'session_price_limit_max': 0.0,\n",
       " 'margin_hedged': 0.0,\n",
       " 'price_change': 0.0,\n",
       " 'price_volatility': 0.0,\n",
       " 'price_theoretical': 0.0,\n",
       " 'price_greeks_delta': 0.0,\n",
       " 'price_greeks_theta': 0.0,\n",
       " 'price_greeks_gamma': 0.0,\n",
       " 'price_greeks_vega': 0.0,\n",
       " 'price_greeks_rho': 0.0,\n",
       " 'price_greeks_omega': 0.0,\n",
       " 'price_sensitivity': 0.0,\n",
       " 'basis': 'AFSZ21',\n",
       " 'category': 'BRBMEFAFS0E4',\n",
       " 'currency_base': 'BRL',\n",
       " 'currency_profit': 'BRL',\n",
       " 'currency_margin': 'BRL',\n",
       " 'bank': '',\n",
       " 'description': 'ZAR por USD - Por Liquidez(AFSZ21) - Ajuste por Diferença',\n",
       " 'exchange': 'BVMF',\n",
       " 'formula': '',\n",
       " 'isin': 'BRBMEFAFS0E4',\n",
       " 'name': 'AFS$D',\n",
       " 'page': '',\n",
       " 'path': 'BMF\\\\AFSH20\\\\AFS$D'}"
      ]
     },
     "execution_count": 42,
     "metadata": {},
     "output_type": "execute_result"
    }
   ],
   "source": [
    "# name method \n",
    "# mt5.symbols_get('OIBR3')\n",
    "\n",
    "# That contains\n",
    "# mt5.symbols_get(\"*OI*\") \n",
    "## put the string inside a \"*string*\"\n",
    "\n",
    "# Position method\n",
    "# mt5.symbols_get()[1]\n",
    "## return a named tuple\n",
    "\n",
    "# Position method\n",
    "mt5.symbols_get()[1]._asdict() #return the informations as a dict\n"
   ]
  },
  {
   "cell_type": "code",
   "execution_count": 30,
   "id": "e613c763",
   "metadata": {},
   "outputs": [],
   "source": [
    "# symbols_get function\n",
    "symbols=mt5.symbols_get() # this function returns info about all symbols"
   ]
  },
  {
   "cell_type": "code",
   "execution_count": 16,
   "id": "69abb4a9",
   "metadata": {},
   "outputs": [],
   "source": [
    "# this function returns the first n symbols\n",
    "def show_first(n):\n",
    "    \n",
    "    if n > len(mt5.symbols_get()):\n",
    "        print(f'The number of requested symbols is more than {len(mt5.symbols_get())}')\n",
    "    \n",
    "    count=0    \n",
    "    for s in symbols:\n",
    "        count+=1\n",
    "        print(\"{}. {}\".format(count,s.name))\n",
    "        if count == n: break"
   ]
  },
  {
   "cell_type": "code",
   "execution_count": 17,
   "id": "0fe5f281",
   "metadata": {},
   "outputs": [
    {
     "name": "stdout",
     "output_type": "stream",
     "text": [
      "1. AFS$\n",
      "2. AFS$D\n",
      "3. AFS$N\n"
     ]
    }
   ],
   "source": [
    "show_first(3)"
   ]
  },
  {
   "cell_type": "markdown",
   "id": "a986c0be",
   "metadata": {},
   "source": [
    "## Symbol Info Tick"
   ]
  },
  {
   "cell_type": "code",
   "execution_count": null,
   "id": "5b464ffb",
   "metadata": {},
   "outputs": [],
   "source": []
  },
  {
   "cell_type": "code",
   "execution_count": 55,
   "id": "87d03abf",
   "metadata": {},
   "outputs": [
    {
     "data": {
      "text/plain": [
       "{'time': 1635530040,\n",
       " 'bid': 104750.0,\n",
       " 'ask': 104755.0,\n",
       " 'last': 104750.0,\n",
       " 'volume': 8536,\n",
       " 'time_msc': 1635530040000,\n",
       " 'flags': 30,\n",
       " 'volume_real': 8536.0}"
      ]
     },
     "execution_count": 55,
     "metadata": {},
     "output_type": "execute_result"
    }
   ],
   "source": [
    "asset = mt5.symbol_info_tick('WINZ21'._asdict()\n",
    "asset"
   ]
  },
  {
   "cell_type": "code",
   "execution_count": 67,
   "id": "5d887c3a",
   "metadata": {},
   "outputs": [],
   "source": [
    "date = datetime(2021, 10, 1)"
   ]
  },
  {
   "cell_type": "code",
   "execution_count": 71,
   "id": "89e229e9",
   "metadata": {},
   "outputs": [
    {
     "data": {
      "text/plain": [
       "array([(1632841200, 111590., 111785., 111420., 111630.,  72, 5,  194),\n",
       "       (1632844800, 111735., 112025., 111395., 111495., 594, 5, 1814),\n",
       "       (1632848400, 111495., 111585., 111200., 111230., 289, 5,  472),\n",
       "       (1632906000, 112200., 112520., 111950., 112310.,  71, 5,  186),\n",
       "       (1632909600, 112225., 112630., 111715., 112440., 113, 5,  308),\n",
       "       (1632913200, 112600., 113160., 112470., 113065., 117, 5,  371),\n",
       "       (1632916800, 113200., 113295., 112830., 113190.,  35, 5,   92),\n",
       "       (1632920400, 113215., 113215., 112700., 113020.,  44, 5,   94),\n",
       "       (1632924000, 112900., 112900., 112045., 112450.,  46, 5,   77),\n",
       "       (1632927600, 112410., 112765., 112280., 112385.,  36, 5,   59),\n",
       "       (1632931200, 112235., 112645., 112115., 112185.,  27, 5,   55),\n",
       "       (1632934800, 112380., 112530., 112270., 112270.,  47, 5,  102),\n",
       "       (1632992400, 112805., 113500., 112745., 113200.,  16, 5,   40),\n",
       "       (1632996000, 113240., 113610., 112715., 113395.,  69, 5,  180),\n",
       "       (1632999600, 113420., 113475., 113185., 113300.,  16, 5,   64),\n",
       "       (1633003200, 113025., 113615., 112750., 112750.,  25, 5,  116),\n",
       "       (1633006800, 112900., 113000., 112015., 112710.,  59, 5,  214),\n",
       "       (1633014000, 112750., 113000., 112550., 112645.,  17, 5,  119),\n",
       "       (1633017600, 112570., 112795., 111950., 112010.,  42, 5,   54),\n",
       "       (1633021200, 111950., 111950., 111655., 111875.,  54, 5,  187)],\n",
       "      dtype=[('time', '<i8'), ('open', '<f8'), ('high', '<f8'), ('low', '<f8'), ('close', '<f8'), ('tick_volume', '<u8'), ('spread', '<i4'), ('real_volume', '<u8')])"
      ]
     },
     "execution_count": 71,
     "metadata": {},
     "output_type": "execute_result"
    }
   ],
   "source": [
    "mt5.copy_rates_from('WINZ21', mt5.TIMEFRAME_H1, date, 20)"
   ]
  },
  {
   "cell_type": "code",
   "execution_count": 72,
   "id": "d3bbbf31",
   "metadata": {},
   "outputs": [],
   "source": [
    "close_connection()"
   ]
  },
  {
   "cell_type": "code",
   "execution_count": null,
   "id": "ac7dc047",
   "metadata": {},
   "outputs": [],
   "source": []
  }
 ],
 "metadata": {
  "kernelspec": {
   "display_name": "Python 3 (ipykernel)",
   "language": "python",
   "name": "python3"
  },
  "language_info": {
   "codemirror_mode": {
    "name": "ipython",
    "version": 3
   },
   "file_extension": ".py",
   "mimetype": "text/x-python",
   "name": "python",
   "nbconvert_exporter": "python",
   "pygments_lexer": "ipython3",
   "version": "3.9.6"
  }
 },
 "nbformat": 4,
 "nbformat_minor": 5
}
